{
 "cells": [
  {
   "cell_type": "code",
   "execution_count": 22,
   "id": "08423d5d-a0b9-44b2-9f88-e0173293f3e4",
   "metadata": {},
   "outputs": [],
   "source": [
    "# 타이타닉 생존자 예측 모델 만들기\n",
    "\n",
    "# 필요한 라이브러리 불러오기\n",
    "import pandas as pd\n",
    "from sklearn.ensemble import RandomForestClassifier\n",
    "from sklearn.preprocessing import LabelEncoder\n",
    "import tkinter as tk\n",
    "from tkinter import *\n",
    "from tkinter import messagebox\n",
    "\n",
    "# 데이터 불러오기\n",
    "df = pd.read_csv('titanic_train.csv')\n",
    "\n",
    "# 필요한 컬럼 선택\n",
    "df = df[['Survived', 'Pclass', 'Sex', 'Age', 'SibSp', 'Parch', 'Fare', 'Embarked']]\n",
    "\n",
    "# 결측치 처리\n",
    "df = df.dropna()\n",
    "\n",
    "# 문자열 데이터 원-핫 인코딩해서 추가된 컬럼 리스트 생성(추후 입력받은 데이터 프레임에 컬럼으로 추가하기 위함)\n",
    "df1 = df\n",
    "cols = ['Embarked', 'Sex']\n",
    "col_list = []\n",
    "for col in cols:\n",
    "    a = pd.get_dummies(df1[col], prefix=col)\n",
    "    col_list.extend(a.columns)\n",
    "    df1 = df1.drop(col, axis=1)\n",
    "    \n",
    "# 추가된 컬럼 리스트로 데이터 프레임 생성\n",
    "col_list_df = pd.DataFrame(columns=col_list, data=[[0]*len(col_list)])\n",
    "\n",
    "# 문자열 데이터 원-핫 인코딩\n",
    "def one_hot_encode(df, cols):\n",
    "    for col in cols:\n",
    "        one_hot_encoded = pd.get_dummies(df[col], prefix=col)\n",
    "        df = df.drop(col, axis=1)\n",
    "        df = pd.concat([df, (one_hot_encoded)], axis=1)\n",
    "    return df\n",
    "\n",
    "df = one_hot_encode(df, ['Sex', 'Embarked'])\n",
    "\n",
    "# 독립변수와 종속변수 분리\n",
    "X = df.drop('Survived', axis=1)\n",
    "y = df['Survived']\n",
    "\n",
    "# X 데이터 프레임의 인덱스 순서 리스트 생성(추후 입력받은 데이터프레임의 컬럼 정렬을 위함)\n",
    "index_sort_list = X.columns\n",
    "index_sort_list\n",
    "\n",
    "# 랜덤포레스트 모델 학습\n",
    "rfc = RandomForestClassifier(n_estimators=100, random_state=42)\n",
    "rfc.fit(X, y)\n",
    "\n",
    "# GUI 생성\n",
    "window = Tk()\n",
    "window.title(\"Titanic 생존자 예측\")\n",
    "window.resizable(False, False)\n",
    "\n",
    "# 메시지 생성\n",
    "message = \"아래 값들을 입력하시면 생존, 사망 여부를 예측해드립니다.\"\n",
    "label = Label(window, text=message)\n",
    "label.grid(row=0, column=0, columnspan=2, padx=10, pady=10)\n",
    "\n",
    "# GUI 위젯 생성\n",
    "lbl1 = Label(window, text=\"Pclass\")\n",
    "lbl1.grid(row=1, column=0, padx=10, pady=10)\n",
    "entry1 = Entry(window)\n",
    "entry1.grid(row=1, column=1, padx=10, pady=10)\n",
    "\n",
    "lbl2 = Label(window, text=\"Sex \\n(male, female)\")\n",
    "lbl2.grid(row=2, column=0, padx=10, pady=10)\n",
    "entry2 = Entry(window)\n",
    "entry2.grid(row=2, column=1, padx=10, pady=10)\n",
    "\n",
    "lbl3 = Label(window, text=\"Age\")\n",
    "lbl3.grid(row=3, column=0, padx=10, pady=10)\n",
    "entry3 = Entry(window)\n",
    "entry3.grid(row=3, column=1, padx=10, pady=10)\n",
    "\n",
    "lbl4 = Label(window, text=\"SibSp\")\n",
    "lbl4.grid(row=4, column=0, padx=10, pady=10)\n",
    "entry4 = Entry(window)\n",
    "entry4.grid(row=4, column=1, padx=10, pady=10)\n",
    "\n",
    "lbl5 = Label(window, text=\"Parch\")\n",
    "lbl5.grid(row=5, column=0, padx=10, pady=10)\n",
    "entry5 = Entry(window)\n",
    "entry5.grid(row=5, column=1, padx=10, pady=10)\n",
    "\n",
    "lbl6 = Label(window, text=\"Fare\")\n",
    "lbl6.grid(row=6, column=0, padx=10, pady=10)\n",
    "entry6 = Entry(window)\n",
    "entry6.grid(row=6, column=1, padx=10, pady=10)\n",
    "\n",
    "lbl7 = Label(window, text=\"Embarked \\n(S, C, Q)\")\n",
    "lbl7.grid(row=7, column=0, padx=10, pady=10)\n",
    "entry7 = Entry(window)\n",
    "entry7.grid(row=7, column=1, padx=10, pady=10)\n",
    "\n",
    "# predict 함수 정의\n",
    "def predict():\n",
    "    # 입력 데이터 가져오기\n",
    "    pclass = int(entry1.get())\n",
    "    sex = entry2.get()\n",
    "    age = float(entry3.get())\n",
    "    sibsp = int(entry4.get())\n",
    "    parch = int(entry5.get())\n",
    "    fare = float(entry6.get())\n",
    "    embarked = entry7.get()\n",
    "    \n",
    "    # 입력값 처리\n",
    "    df_input = pd.DataFrame({\n",
    "        'Pclass': [pclass],\n",
    "        # 'Sex': [sex],\n",
    "        'Age': [age],\n",
    "        'SibSp': [sibsp],\n",
    "        'Parch': [parch],\n",
    "        'Fare': [fare],\n",
    "        # 'Embarked': [embarked]\n",
    "    })\n",
    "\n",
    "    # 입력값으로 만든 df_input 데이터 프레임에 col_list_df 컬럼 추가해서 X_input 데이터 프레임 생성\n",
    "    input_list = [sex, embarked]\n",
    "    X_input = pd.concat([df_input, col_list_df], axis=1)\n",
    "\n",
    "    # 입력값이 X_input 데이터 프레임에 속할 경우 값을 1로 변경, 원-핫 인코딩과 같은 효과, male은 입력받을경우 Sex_male, Sex_female 같이 증가하므로 예외로 둠\n",
    "    for input in input_list:\n",
    "        for each in X_input.columns:\n",
    "            if input == 'male':\n",
    "                X_input['Sex_male'] == 1\n",
    "                break\n",
    "            elif input in each:\n",
    "                X_input[each] == 1\n",
    "    \n",
    "    # 생존 예측\n",
    "    result = rfc.predict(X_input[index_sort_list])\n",
    "    \n",
    "    # 예측 결과 출력\n",
    "    if result == 1:\n",
    "        messagebox.showinfo(\"Prediction Result\", \"생존\")\n",
    "    else:\n",
    "        messagebox.showinfo(\"Prediction Result\", \"사망\")\n",
    "\n",
    "# Predict 버튼 생성 후 버튼을 눌러서 predict() 함수 호출\n",
    "btn = Button(window, text=\"Predict\", command=predict)\n",
    "btn.grid(row=8, column=1, padx=10, pady=10)\n",
    "\n",
    "window.mainloop()"
   ]
  },
  {
   "cell_type": "code",
   "execution_count": 6,
   "id": "75875a40",
   "metadata": {},
   "outputs": [
    {
     "name": "stdout",
     "output_type": "stream",
     "text": [
      "1\n"
     ]
    }
   ],
   "source": [
    "# 타이타닉 생존자 찾기\n",
    "i = 0\n",
    "while True:\n",
    "    if y.iloc[i] == 1:\n",
    "        print(i)\n",
    "        break\n",
    "    else:\n",
    "        i += 1"
   ]
  },
  {
   "cell_type": "code",
   "execution_count": 17,
   "id": "cc84bd42",
   "metadata": {},
   "outputs": [],
   "source": [
    "# 데이터 다시 불러오기\n",
    "df = pd.read_csv('titanic_train.csv')"
   ]
  },
  {
   "cell_type": "code",
   "execution_count": 18,
   "id": "4d4fbb13",
   "metadata": {},
   "outputs": [],
   "source": [
    "# 필요한 컬럼 선택\n",
    "df = df[['Survived', 'Pclass', 'Sex', 'Age', 'SibSp', 'Parch', 'Fare', 'Embarked']]"
   ]
  },
  {
   "cell_type": "code",
   "execution_count": 19,
   "id": "99f738a3",
   "metadata": {},
   "outputs": [],
   "source": [
    "# 독립변수와 종속변수 분리(원핫 인코딩 해제)\n",
    "X = df.drop('Survived', axis=1)\n",
    "y = df['Survived']"
   ]
  },
  {
   "cell_type": "code",
   "execution_count": 20,
   "id": "874c2b73",
   "metadata": {},
   "outputs": [
    {
     "data": {
      "text/plain": [
       "Pclass            1\n",
       "Sex          female\n",
       "Age            38.0\n",
       "SibSp             1\n",
       "Parch             0\n",
       "Fare        71.2833\n",
       "Embarked          C\n",
       "Name: 1, dtype: object"
      ]
     },
     "execution_count": 20,
     "metadata": {},
     "output_type": "execute_result"
    }
   ],
   "source": [
    "# tkinter test\n",
    "X.iloc[1]"
   ]
  },
  {
   "cell_type": "code",
   "execution_count": 21,
   "id": "e8e3286d",
   "metadata": {},
   "outputs": [
    {
     "data": {
      "text/plain": [
       "1"
      ]
     },
     "execution_count": 21,
     "metadata": {},
     "output_type": "execute_result"
    }
   ],
   "source": [
    "# 결과가 생존이 나오면 테스트 성공!\n",
    "y.iloc[1]"
   ]
  }
 ],
 "metadata": {
  "kernelspec": {
   "display_name": "Python 3 (ipykernel)",
   "language": "python",
   "name": "python3"
  },
  "language_info": {
   "codemirror_mode": {
    "name": "ipython",
    "version": 3
   },
   "file_extension": ".py",
   "mimetype": "text/x-python",
   "name": "python",
   "nbconvert_exporter": "python",
   "pygments_lexer": "ipython3",
   "version": "3.10.0"
  },
  "vscode": {
   "interpreter": {
    "hash": "2701035f62c8526adc246c1ce198c646a908962c9f03e53671c46035159238ce"
   }
  }
 },
 "nbformat": 4,
 "nbformat_minor": 5
}

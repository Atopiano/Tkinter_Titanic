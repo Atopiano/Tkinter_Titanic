{
 "cells": [
  {
   "cell_type": "code",
   "execution_count": 7,
   "id": "4059c654-95bc-4855-834b-ae64254fe69b",
   "metadata": {},
   "outputs": [
    {
     "data": {
      "text/html": [
       "<style>#sk-container-id-1 {color: black;background-color: white;}#sk-container-id-1 pre{padding: 0;}#sk-container-id-1 div.sk-toggleable {background-color: white;}#sk-container-id-1 label.sk-toggleable__label {cursor: pointer;display: block;width: 100%;margin-bottom: 0;padding: 0.3em;box-sizing: border-box;text-align: center;}#sk-container-id-1 label.sk-toggleable__label-arrow:before {content: \"▸\";float: left;margin-right: 0.25em;color: #696969;}#sk-container-id-1 label.sk-toggleable__label-arrow:hover:before {color: black;}#sk-container-id-1 div.sk-estimator:hover label.sk-toggleable__label-arrow:before {color: black;}#sk-container-id-1 div.sk-toggleable__content {max-height: 0;max-width: 0;overflow: hidden;text-align: left;background-color: #f0f8ff;}#sk-container-id-1 div.sk-toggleable__content pre {margin: 0.2em;color: black;border-radius: 0.25em;background-color: #f0f8ff;}#sk-container-id-1 input.sk-toggleable__control:checked~div.sk-toggleable__content {max-height: 200px;max-width: 100%;overflow: auto;}#sk-container-id-1 input.sk-toggleable__control:checked~label.sk-toggleable__label-arrow:before {content: \"▾\";}#sk-container-id-1 div.sk-estimator input.sk-toggleable__control:checked~label.sk-toggleable__label {background-color: #d4ebff;}#sk-container-id-1 div.sk-label input.sk-toggleable__control:checked~label.sk-toggleable__label {background-color: #d4ebff;}#sk-container-id-1 input.sk-hidden--visually {border: 0;clip: rect(1px 1px 1px 1px);clip: rect(1px, 1px, 1px, 1px);height: 1px;margin: -1px;overflow: hidden;padding: 0;position: absolute;width: 1px;}#sk-container-id-1 div.sk-estimator {font-family: monospace;background-color: #f0f8ff;border: 1px dotted black;border-radius: 0.25em;box-sizing: border-box;margin-bottom: 0.5em;}#sk-container-id-1 div.sk-estimator:hover {background-color: #d4ebff;}#sk-container-id-1 div.sk-parallel-item::after {content: \"\";width: 100%;border-bottom: 1px solid gray;flex-grow: 1;}#sk-container-id-1 div.sk-label:hover label.sk-toggleable__label {background-color: #d4ebff;}#sk-container-id-1 div.sk-serial::before {content: \"\";position: absolute;border-left: 1px solid gray;box-sizing: border-box;top: 0;bottom: 0;left: 50%;z-index: 0;}#sk-container-id-1 div.sk-serial {display: flex;flex-direction: column;align-items: center;background-color: white;padding-right: 0.2em;padding-left: 0.2em;position: relative;}#sk-container-id-1 div.sk-item {position: relative;z-index: 1;}#sk-container-id-1 div.sk-parallel {display: flex;align-items: stretch;justify-content: center;background-color: white;position: relative;}#sk-container-id-1 div.sk-item::before, #sk-container-id-1 div.sk-parallel-item::before {content: \"\";position: absolute;border-left: 1px solid gray;box-sizing: border-box;top: 0;bottom: 0;left: 50%;z-index: -1;}#sk-container-id-1 div.sk-parallel-item {display: flex;flex-direction: column;z-index: 1;position: relative;background-color: white;}#sk-container-id-1 div.sk-parallel-item:first-child::after {align-self: flex-end;width: 50%;}#sk-container-id-1 div.sk-parallel-item:last-child::after {align-self: flex-start;width: 50%;}#sk-container-id-1 div.sk-parallel-item:only-child::after {width: 0;}#sk-container-id-1 div.sk-dashed-wrapped {border: 1px dashed gray;margin: 0 0.4em 0.5em 0.4em;box-sizing: border-box;padding-bottom: 0.4em;background-color: white;}#sk-container-id-1 div.sk-label label {font-family: monospace;font-weight: bold;display: inline-block;line-height: 1.2em;}#sk-container-id-1 div.sk-label-container {text-align: center;}#sk-container-id-1 div.sk-container {/* jupyter's `normalize.less` sets `[hidden] { display: none; }` but bootstrap.min.css set `[hidden] { display: none !important; }` so we also need the `!important` here to be able to override the default hidden behavior on the sphinx rendered scikit-learn.org. See: https://github.com/scikit-learn/scikit-learn/issues/21755 */display: inline-block !important;position: relative;}#sk-container-id-1 div.sk-text-repr-fallback {display: none;}</style><div id=\"sk-container-id-1\" class=\"sk-top-container\"><div class=\"sk-text-repr-fallback\"><pre>RandomForestClassifier(random_state=42)</pre><b>In a Jupyter environment, please rerun this cell to show the HTML representation or trust the notebook. <br />On GitHub, the HTML representation is unable to render, please try loading this page with nbviewer.org.</b></div><div class=\"sk-container\" hidden><div class=\"sk-item\"><div class=\"sk-estimator sk-toggleable\"><input class=\"sk-toggleable__control sk-hidden--visually\" id=\"sk-estimator-id-1\" type=\"checkbox\" checked><label for=\"sk-estimator-id-1\" class=\"sk-toggleable__label sk-toggleable__label-arrow\">RandomForestClassifier</label><div class=\"sk-toggleable__content\"><pre>RandomForestClassifier(random_state=42)</pre></div></div></div></div></div>"
      ],
      "text/plain": [
       "RandomForestClassifier(random_state=42)"
      ]
     },
     "execution_count": 7,
     "metadata": {},
     "output_type": "execute_result"
    }
   ],
   "source": [
    "# 타이타닉 생존자 예측 모델 만들기\n",
    "\n",
    "# 필요한 라이브러리 불러오기\n",
    "import pandas as pd\n",
    "from sklearn.ensemble import RandomForestClassifier\n",
    "from sklearn.preprocessing import LabelEncoder\n",
    "import tkinter as tk\n",
    "from tkinter import *\n",
    "from tkinter import messagebox\n",
    "\n",
    "# 데이터 불러오기\n",
    "df = pd.read_csv('titanic_train.csv')\n",
    "\n",
    "# 필요한 컬럼 선택\n",
    "df = df[['Survived', 'Pclass', 'Sex', 'Age', 'SibSp', 'Parch', 'Fare', 'Embarked']]\n",
    "\n",
    "# 결측치 처리\n",
    "df = df.dropna()\n",
    "\n",
    "# 문자열 데이터 라벨 인코딩\n",
    "encoder = LabelEncoder()\n",
    "df['Sex'] = encoder.fit_transform(df['Sex'])\n",
    "df['Embarked'] = encoder.fit_transform(df['Embarked'])\n",
    "\n",
    "# 인코딩 전의 원래 값과 인코딩된 값을 딕셔너리로 만듦\n",
    "sex_dict = {0: 'male', 1: 'female'}\n",
    "embarked_dict = {0: 'S', 1: 'C', 2: 'Q'}\n",
    "\n",
    "# 독립변수와 종속변수 분리\n",
    "X = df.drop('Survived', axis=1)\n",
    "y = df['Survived']\n",
    "\n",
    "# 랜덤포레스트 모델 학습\n",
    "rfc = RandomForestClassifier(n_estimators=100, random_state=42)\n",
    "rfc.fit(X, y)"
   ]
  },
  {
   "cell_type": "code",
   "execution_count": 8,
   "id": "9219b4b8",
   "metadata": {},
   "outputs": [
    {
     "name": "stderr",
     "output_type": "stream",
     "text": [
      "c:\\Users\\wkddl\\AppData\\Local\\Programs\\Python\\Python310\\lib\\site-packages\\sklearn\\base.py:420: UserWarning: X does not have valid feature names, but RandomForestClassifier was fitted with feature names\n",
      "  warnings.warn(\n"
     ]
    }
   ],
   "source": [
    "# GUI 생성\n",
    "window = Tk()\n",
    "window.title(\"Titanic 생존자 예측\")\n",
    "window.resizable(False, False)\n",
    "\n",
    "# GUI 위젯 생성\n",
    "lbl1 = Label(window, text=\"Pclass\")\n",
    "lbl1.grid(row=1, column=0, padx=10, pady=10)\n",
    "entry1 = Entry(window)\n",
    "entry1.grid(row=1, column=1, padx=10, pady=10)\n",
    "\n",
    "lbl2 = Label(window, text=\"Sex \\n(male, female)\")\n",
    "lbl2.grid(row=2, column=0, padx=10, pady=10)\n",
    "entry2 = Entry(window)\n",
    "entry2.grid(row=2, column=1, padx=10, pady=10)\n",
    "\n",
    "lbl3 = Label(window, text=\"Age\")\n",
    "lbl3.grid(row=3, column=0, padx=10, pady=10)\n",
    "entry3 = Entry(window)\n",
    "entry3.grid(row=3, column=1, padx=10, pady=10)\n",
    "\n",
    "lbl4 = Label(window, text=\"SibSp\")\n",
    "lbl4.grid(row=4, column=0, padx=10, pady=10)\n",
    "entry4 = Entry(window)\n",
    "entry4.grid(row=4, column=1, padx=10, pady=10)\n",
    "\n",
    "lbl5 = Label(window, text=\"Parch\")\n",
    "lbl5.grid(row=5, column=0, padx=10, pady=10)\n",
    "entry5 = Entry(window)\n",
    "entry5.grid(row=5, column=1, padx=10, pady=10)\n",
    "\n",
    "lbl6 = Label(window, text=\"Fare\")\n",
    "lbl6.grid(row=6, column=0, padx=10, pady=10)\n",
    "entry6 = Entry(window)\n",
    "entry6.grid(row=6, column=1, padx=10, pady=10)\n",
    "\n",
    "lbl7 = Label(window, text=\"Embarked \\n(S, C, Q)\")\n",
    "lbl7.grid(row=7, column=0, padx=10, pady=10)\n",
    "entry7 = Entry(window)\n",
    "entry7.grid(row=7, column=1, padx=10, pady=10)\n",
    "\n",
    "def predict():\n",
    "    # 입력 데이터 가져오기\n",
    "    pclass = int(entry1.get())\n",
    "    sex = int(entry2.get())\n",
    "    age = float(entry3.get())\n",
    "    sibsp = int(entry4.get())\n",
    "    parch = int(entry5.get())\n",
    "    fare = float(entry6.get())\n",
    "    embarked = int(entry2.get())\n",
    "\n",
    "    # 생존 예측\n",
    "    result = rfc.predict([[pclass, sex, age, sibsp, parch, fare, embarked]])\n",
    "\n",
    "    # 예측 결과 출력\n",
    "    if result == 1:\n",
    "        messagebox.showinfo(\"Prediction Result\", \"생존\")\n",
    "    else:\n",
    "        messagebox.showinfo(\"Prediction Result\", \"사망\")\n",
    "        \n",
    "btn = Button(window, text=\"Predict\", command=predict)\n",
    "btn.grid(row=8, column=1, padx=10, pady=10)\n",
    "\n",
    "window.mainloop()"
   ]
  },
  {
   "cell_type": "code",
   "execution_count": 9,
   "id": "8ffde4d6-3b6c-47fb-9d01-73c3caf42524",
   "metadata": {},
   "outputs": [
    {
     "name": "stdout",
     "output_type": "stream",
     "text": [
      "1\n"
     ]
    }
   ],
   "source": [
    "# 타이타닉 생존자 찾기\n",
    "i = 0\n",
    "while True:\n",
    "    if y.iloc[i] == 1:\n",
    "        print(i)\n",
    "        break\n",
    "    else:\n",
    "        i += 1"
   ]
  },
  {
   "cell_type": "code",
   "execution_count": 10,
   "id": "51538938-cd4b-4de3-a7a2-dd8f8a31b205",
   "metadata": {},
   "outputs": [
    {
     "data": {
      "text/plain": [
       "Pclass       1.0000\n",
       "Sex          0.0000\n",
       "Age         38.0000\n",
       "SibSp        1.0000\n",
       "Parch        0.0000\n",
       "Fare        71.2833\n",
       "Embarked     0.0000\n",
       "Name: 1, dtype: float64"
      ]
     },
     "execution_count": 10,
     "metadata": {},
     "output_type": "execute_result"
    }
   ],
   "source": [
    "# tkinter test\n",
    "X.iloc[1]"
   ]
  },
  {
   "cell_type": "code",
   "execution_count": 11,
   "id": "62ac0810-aecf-4ef8-80fc-e0e52afdaae4",
   "metadata": {},
   "outputs": [
    {
     "data": {
      "text/plain": [
       "1"
      ]
     },
     "execution_count": 11,
     "metadata": {},
     "output_type": "execute_result"
    }
   ],
   "source": [
    "# 결과가 생존이 나오면 테스트 성공!\n",
    "y.iloc[1]"
   ]
  }
 ],
 "metadata": {
  "kernelspec": {
   "display_name": "Python 3 (ipykernel)",
   "language": "python",
   "name": "python3"
  },
  "language_info": {
   "codemirror_mode": {
    "name": "ipython",
    "version": 3
   },
   "file_extension": ".py",
   "mimetype": "text/x-python",
   "name": "python",
   "nbconvert_exporter": "python",
   "pygments_lexer": "ipython3",
   "version": "3.10.0"
  },
  "vscode": {
   "interpreter": {
    "hash": "2701035f62c8526adc246c1ce198c646a908962c9f03e53671c46035159238ce"
   }
  }
 },
 "nbformat": 4,
 "nbformat_minor": 5
}

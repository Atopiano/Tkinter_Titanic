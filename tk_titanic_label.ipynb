{
 "cells": [
  {
   "cell_type": "code",
   "execution_count": 9,
   "id": "4059c654-95bc-4855-834b-ae64254fe69b",
   "metadata": {},
   "outputs": [
    {
     "name": "stderr",
     "output_type": "stream",
     "text": [
      "Exception in Tkinter callback\n",
      "Traceback (most recent call last):\n",
      "  File \"C:\\Users\\wkddl\\anaconda3\\lib\\tkinter\\__init__.py\", line 1892, in __call__\n",
      "    return self.func(*args)\n",
      "  File \"C:\\Users\\wkddl\\AppData\\Local\\Temp\\ipykernel_23876\\1815844351.py\", line 61, in predict\n",
      "    pclass = int(entry1.get())\n",
      "NameError: name 'entry1' is not defined\n"
     ]
    }
   ],
   "source": [
    "# 타이타닉 생존자 예측 모델 만들기\n",
    "\n",
    "# 필요한 라이브러리 불러오기\n",
    "import pandas as pd\n",
    "from sklearn.ensemble import RandomForestClassifier\n",
    "from sklearn.preprocessing import LabelEncoder\n",
    "import tkinter as tk\n",
    "from tkinter import *\n",
    "from tkinter import messagebox\n",
    "\n",
    "# 데이터 불러오기\n",
    "df = pd.read_csv('titanic_train.csv')\n",
    "\n",
    "# 필요한 컬럼 선택\n",
    "df = df[['Survived', 'Pclass', 'Sex', 'Age', 'SibSp', 'Parch', 'Fare', 'Embarked']]\n",
    "\n",
    "# 결측치 처리\n",
    "df = df.dropna()\n",
    "\n",
    "# 문자열 데이터 라벨 인코딩\n",
    "encoder = LabelEncoder()\n",
    "df['Sex'] = encoder.fit_transform(df['Sex'])\n",
    "df['Embarked'] = encoder.fit_transform(df['Embarked'])\n",
    "\n",
    "# 인코딩 전의 원래 값과 인코딩된 값을 딕셔너리로 만듦\n",
    "sex_dict = {0: 'male', 1: 'female'}\n",
    "embarked_dict = {0: 'S', 1: 'C', 2: 'Q'}\n",
    "\n",
    "# 독립변수와 종속변수 분리\n",
    "X = df.drop('Survived', axis=1)\n",
    "y = df['Survived']\n",
    "\n",
    "# 랜덤포레스트 모델 학습\n",
    "rfc = RandomForestClassifier(n_estimators=100, random_state=42)\n",
    "rfc.fit(X, y)\n",
    "\n",
    "# GUI 생성\n",
    "window = Tk()\n",
    "window.title(\"Titanic 생존자 예측\")\n",
    "window.resizable(False, False)\n",
    "\n",
    "# GUI 위젯 생성\n",
    "widgets = [\n",
    "    (\"Pclass\", 0, 0),\n",
    "    (\"Sex\\n(0: male, 1: female)\", 1, 0),\n",
    "    (\"Age\", 2, 0),\n",
    "    (\"SibSp\", 3, 0),\n",
    "    (\"Parch\", 4, 0),\n",
    "    (\"Fare\", 5, 0),\n",
    "    (\"Embarked\\n(0: S, 1: C, 2: Q)\", 6, 0)\n",
    "]\n",
    "\n",
    "for i, (text, row, col) in enumerate(widgets):\n",
    "    lbl = Label(window, text=text)\n",
    "    lbl.grid(row=row, column=col, padx=10, pady=10)\n",
    "    entry = Entry(window)\n",
    "    entry.grid(row=row, column=col+1, padx=10, pady=10)\n",
    "\n",
    "def predict():\n",
    "    # 입력 데이터 가져오기\n",
    "    pclass = int(entry1.get())\n",
    "    sex = int(entry2.get())\n",
    "    age = float(entry3.get())\n",
    "    sibsp = int(entry4.get())\n",
    "    parch = int(entry5.get())\n",
    "    fare = float(entry6.get())\n",
    "    embarked = int(entry2.get())\n",
    "\n",
    "    # 생존 예측\n",
    "    result = rfc.predict([[pclass, sex, age, sibsp, parch, fare, embarked]])\n",
    "\n",
    "    # 예측 결과 출력\n",
    "    if result == 1:\n",
    "        messagebox.showinfo(\"Prediction Result\", \"생존\")\n",
    "    else:\n",
    "        messagebox.showinfo(\"Prediction Result\", \"사망\")\n",
    "        \n",
    "btn = Button(window, text=\"Predict\", command=predict)\n",
    "btn.grid(row=7, column=1, padx=10, pady=10)\n",
    "\n",
    "window.mainloop()"
   ]
  },
  {
   "cell_type": "code",
   "execution_count": 5,
   "id": "8ffde4d6-3b6c-47fb-9d01-73c3caf42524",
   "metadata": {},
   "outputs": [
    {
     "name": "stdout",
     "output_type": "stream",
     "text": [
      "1\n"
     ]
    }
   ],
   "source": [
    "# 타이타닉 생존자 찾기\n",
    "i = 0\n",
    "while True:\n",
    "    if y.iloc[i] == 1:\n",
    "        print(i)\n",
    "        break\n",
    "    else:\n",
    "        i += 1"
   ]
  },
  {
   "cell_type": "code",
   "execution_count": 6,
   "id": "51538938-cd4b-4de3-a7a2-dd8f8a31b205",
   "metadata": {},
   "outputs": [
    {
     "data": {
      "text/plain": [
       "Pclass       1.0000\n",
       "Sex          0.0000\n",
       "Age         38.0000\n",
       "SibSp        1.0000\n",
       "Parch        0.0000\n",
       "Fare        71.2833\n",
       "Embarked     0.0000\n",
       "Name: 1, dtype: float64"
      ]
     },
     "execution_count": 6,
     "metadata": {},
     "output_type": "execute_result"
    }
   ],
   "source": [
    "X.iloc[1]"
   ]
  },
  {
   "cell_type": "code",
   "execution_count": 7,
   "id": "62ac0810-aecf-4ef8-80fc-e0e52afdaae4",
   "metadata": {},
   "outputs": [
    {
     "data": {
      "text/plain": [
       "1"
      ]
     },
     "execution_count": 7,
     "metadata": {},
     "output_type": "execute_result"
    }
   ],
   "source": [
    "y.iloc[1]"
   ]
  },
  {
   "cell_type": "code",
   "execution_count": null,
   "id": "868f5a16-929d-4edf-b6e6-044ba9bf9e8d",
   "metadata": {},
   "outputs": [],
   "source": []
  }
 ],
 "metadata": {
  "kernelspec": {
   "display_name": "Python 3 (ipykernel)",
   "language": "python",
   "name": "python3"
  },
  "language_info": {
   "codemirror_mode": {
    "name": "ipython",
    "version": 3
   },
   "file_extension": ".py",
   "mimetype": "text/x-python",
   "name": "python",
   "nbconvert_exporter": "python",
   "pygments_lexer": "ipython3",
   "version": "3.9.13"
  },
  "vscode": {
   "interpreter": {
    "hash": "2701035f62c8526adc246c1ce198c646a908962c9f03e53671c46035159238ce"
   }
  }
 },
 "nbformat": 4,
 "nbformat_minor": 5
}
